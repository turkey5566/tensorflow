{
 "cells": [
  {
   "cell_type": "code",
   "execution_count": 4,
   "metadata": {},
   "outputs": [
    {
     "name": "stdout",
     "output_type": "stream",
     "text": [
      "Downloading data from https://storage.googleapis.com/tensorflow/tf-keras-datasets/mnist.npz\n",
      "11493376/11490434 [==============================] - 10s 1us/step\n"
     ]
    }
   ],
   "source": [
    "from tensorflow.python.keras.datasets import mnist\n",
    "\n",
    "(x_train,y_train),(x_test,y_test) = mnist.load_data()\n"
   ]
  },
  {
   "cell_type": "code",
   "execution_count": null,
   "metadata": {},
   "outputs": [],
   "source": []
  },
  {
   "cell_type": "code",
   "execution_count": 5,
   "metadata": {},
   "outputs": [
    {
     "name": "stdout",
     "output_type": "stream",
     "text": [
      "x_train.shape (60000, 28, 28)\n",
      "x_test.shape (10000, 28, 28)\n",
      "y_train.shape (60000,)\n",
      "y_test.shape (10000,)\n"
     ]
    }
   ],
   "source": [
    "print('x_train.shape',x_train.shape)\n",
    "print('x_test.shape',x_test.shape)\n",
    "print('y_train.shape',y_train.shape)\n",
    "print('y_test.shape',y_test.shape)\n",
    "\n"
   ]
  },
  {
   "cell_type": "code",
   "execution_count": 6,
   "metadata": {},
   "outputs": [],
   "source": [
    "x_train = x_train.reshape(60000,784)\n",
    "x_train = x_train/255.\n",
    "x_test  = x_test.reshape(10000,784)\n",
    "x_test = x_test/255."
   ]
  },
  {
   "cell_type": "code",
   "execution_count": 8,
   "metadata": {},
   "outputs": [],
   "source": [
    "from tensorflow.python.keras.utils import to_categorical\n",
    "\n",
    "y_traina = to_categorical(y_train,10)\n",
    "y_test   = to_categorical(y_test,10)"
   ]
  },
  {
   "cell_type": "code",
   "execution_count": 17,
   "metadata": {},
   "outputs": [],
   "source": [
    "from tensorflow.python.keras.models import Sequential\n",
    "model = Sequential()\n"
   ]
  },
  {
   "cell_type": "code",
   "execution_count": 28,
   "metadata": {},
   "outputs": [],
   "source": [
    "from tensorflow.python.keras.layers import Dense\n",
    "\n",
    "model.add(\n",
    "    Dense(\n",
    "        units=64,\n",
    "        input_shape=(784,),\n",
    "        activation='relu'\n",
    "    )\n",
    ")\n",
    "model.add(\n",
    "    Dense(\n",
    "        units=10,\n",
    "        activation='softmax'\n",
    "    )\n",
    ")\n"
   ]
  },
  {
   "cell_type": "code",
   "execution_count": 31,
   "metadata": {},
   "outputs": [
    {
     "name": "stdout",
     "output_type": "stream",
     "text": [
      "Train on 48000 samples, validate on 12000 samples\n",
      "Epoch 1/20\n",
      "48000/48000 [==============================] - 13s 275us/step - loss: 4.7633 - acc: 0.0987 - val_loss: 4.1589 - val_acc: 0.0995\n",
      "Epoch 2/20\n",
      "48000/48000 [==============================] - 10s 210us/step - loss: 4.1589 - acc: 0.0985 - val_loss: 4.1589 - val_acc: 0.0995\n",
      "Epoch 3/20\n",
      "48000/48000 [==============================] - 10s 209us/step - loss: 4.1589 - acc: 0.0985 - val_loss: 4.1589 - val_acc: 0.0995\n",
      "Epoch 4/20\n",
      "48000/48000 [==============================] - 10s 214us/step - loss: 4.1589 - acc: 0.0985 - val_loss: 4.1589 - val_acc: 0.0995\n",
      "Epoch 5/20\n",
      "48000/48000 [==============================] - 10s 206us/step - loss: 4.1589 - acc: 0.0985 - val_loss: 4.1589 - val_acc: 0.0995\n",
      "Epoch 6/20\n",
      "48000/48000 [==============================] - 10s 210us/step - loss: 4.1589 - acc: 0.0985 - val_loss: 4.1589 - val_acc: 0.0995\n",
      "Epoch 7/20\n",
      "48000/48000 [==============================] - 11s 233us/step - loss: 4.1589 - acc: 0.0985 - val_loss: 4.1589 - val_acc: 0.0995\n",
      "Epoch 8/20\n",
      "48000/48000 [==============================] - 16s 336us/step - loss: 4.1589 - acc: 0.0985 - val_loss: 4.1589 - val_acc: 0.0995\n",
      "Epoch 9/20\n",
      "48000/48000 [==============================] - 10s 214us/step - loss: 4.1589 - acc: 0.0985 - val_loss: 4.1589 - val_acc: 0.0995\n",
      "Epoch 10/20\n",
      "48000/48000 [==============================] - 10s 215us/step - loss: 4.1589 - acc: 0.0985 - val_loss: 4.1589 - val_acc: 0.0995\n",
      "Epoch 11/20\n",
      "48000/48000 [==============================] - 11s 219us/step - loss: 4.1589 - acc: 0.0985 - val_loss: 4.1589 - val_acc: 0.0995\n",
      "Epoch 12/20\n",
      "48000/48000 [==============================] - 13s 264us/step - loss: 4.1589 - acc: 0.0985 - val_loss: 4.1589 - val_acc: 0.0995\n",
      "Epoch 13/20\n",
      "48000/48000 [==============================] - 15s 305us/step - loss: 4.1589 - acc: 0.0985 - val_loss: 4.1589 - val_acc: 0.0995\n",
      "Epoch 14/20\n",
      "48000/48000 [==============================] - 12s 251us/step - loss: 4.1589 - acc: 0.0985 - val_loss: 4.1589 - val_acc: 0.0995\n",
      "Epoch 15/20\n",
      "48000/48000 [==============================] - 12s 251us/step - loss: 4.1589 - acc: 0.0985 - val_loss: 4.1589 - val_acc: 0.0995\n",
      "Epoch 16/20\n",
      "48000/48000 [==============================] - 12s 245us/step - loss: 4.1589 - acc: 0.0985 - val_loss: 4.1589 - val_acc: 0.0995\n",
      "Epoch 17/20\n",
      "48000/48000 [==============================] - 11s 237us/step - loss: 4.1589 - acc: 0.0985 - val_loss: 4.1589 - val_acc: 0.0995\n",
      "Epoch 18/20\n",
      "48000/48000 [==============================] - 11s 222us/step - loss: 4.1589 - acc: 0.0985 - val_loss: 4.1589 - val_acc: 0.0995\n",
      "Epoch 19/20\n",
      "48000/48000 [==============================] - 10s 209us/step - loss: 4.1589 - acc: 0.0985 - val_loss: 4.1589 - val_acc: 0.0995\n",
      "Epoch 20/20\n",
      "48000/48000 [==============================] - 12s 247us/step - loss: 4.1589 - acc: 0.0985 - val_loss: 4.1589 - val_acc: 0.0995\n"
     ]
    }
   ],
   "source": [
    "from tensorflow.python.keras.callbacks import TensorBoard\n",
    "\n",
    "model.compile(\n",
    "    optimizer='adam',\n",
    "    loss='sparse_categorical_crossentropy',\n",
    "    metrics=['accuracy']\n",
    ")\n",
    "\n",
    "tsb=TensorBoard(log_dir='./logs')\n",
    "\n",
    "history_adam=model.fit(\n",
    "    x_train,\n",
    "    y_train,\n",
    "    batch_size=32,\n",
    "    epochs=20,\n",
    "    validation_split=0.2,\n",
    "    callbacks=[tsb]\n",
    ")\n",
    "tsb."
   ]
  },
  {
   "cell_type": "code",
   "execution_count": 3,
   "metadata": {},
   "outputs": [
    {
     "name": "stdout",
     "output_type": "stream",
     "text": [
      "The tensorboard module is not an IPython extension.\n"
     ]
    }
   ],
   "source": [
    "%load_ext tensorboard"
   ]
  },
  {
   "cell_type": "code",
   "execution_count": null,
   "metadata": {},
   "outputs": [],
   "source": []
  },
  {
   "cell_type": "code",
   "execution_count": null,
   "metadata": {},
   "outputs": [],
   "source": []
  },
  {
   "cell_type": "code",
   "execution_count": null,
   "metadata": {},
   "outputs": [],
   "source": []
  }
 ],
 "metadata": {
  "kernelspec": {
   "display_name": "Python 3",
   "language": "python",
   "name": "python3"
  },
  "language_info": {
   "codemirror_mode": {
    "name": "ipython",
    "version": 3
   },
   "file_extension": ".py",
   "mimetype": "text/x-python",
   "name": "python",
   "nbconvert_exporter": "python",
   "pygments_lexer": "ipython3",
   "version": "3.6.10"
  }
 },
 "nbformat": 4,
 "nbformat_minor": 4
}
