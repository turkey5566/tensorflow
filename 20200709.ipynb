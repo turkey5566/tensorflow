{
 "cells": [
  {
   "cell_type": "code",
   "execution_count": 7,
   "metadata": {},
   "outputs": [
    {
     "name": "stdout",
     "output_type": "stream",
     "text": [
      "a+b= 9\n"
     ]
    }
   ],
   "source": [
    "import tensorflow as tf\n",
    "\n",
    "a = tf.placeholder(dtype=tf.int32, name = 'a')\n",
    "b = tf.constant(1,name= 'b')\n",
    "c = a+b\n",
    "\n",
    "with tf.Session() as sess:\n",
    "    print('a+b=',sess.run(c,feed_dict={a:8}))\n",
    "    "
   ]
  },
  {
   "cell_type": "code",
   "execution_count": 10,
   "metadata": {},
   "outputs": [
    {
     "name": "stdout",
     "output_type": "stream",
     "text": [
      "a+b= 5\n",
      "a*b= 6\n"
     ]
    }
   ],
   "source": [
    "a = tf.constant(2,name='a')\n",
    "b = tf.constant(3,name='b')\n",
    "c = tf.add(a,b)\n",
    "d = tf.multiply(a,b)\n",
    "with tf.Session() as sess:\n",
    "    print('a+b=',sess.run(c))\n",
    "    print('a*b=',sess.run(d))\n",
    "    "
   ]
  },
  {
   "cell_type": "code",
   "execution_count": 23,
   "metadata": {},
   "outputs": [
    {
     "name": "stdout",
     "output_type": "stream",
     "text": [
      "shape of a: (2, 3)\n",
      "shape of b: (3, 3)\n",
      "shape of c: (2, 3)\n",
      "a=\n",
      " [[1 2 4]\n",
      " [5 7 6]]\n",
      "b=\n",
      " [[1 5 3]\n",
      " [2 8 7]\n",
      " [4 7 5]]\n",
      "c=\n",
      " [[ 21  49  37]\n",
      " [ 43 123  94]]\n"
     ]
    }
   ],
   "source": [
    "a = tf.constant([[1,2,4],[5,7,6]],name = 'a')\n",
    "b = tf.constant([[1,5,3],[2,8,7],[4,7,5]],name='b')\n",
    "c = tf.matmul(a,b)\n",
    "\n",
    "print('shape of a:',a.shape)\n",
    "print('shape of b:',b.shape)\n",
    "print('shape of c:',c.shape)\n",
    "\n",
    "with tf.Session() as sess:\n",
    "    print('a=\\n',sess.run(a))\n",
    "    print('b=\\n',sess.run(b))\n",
    "    print('c=\\n',sess.run(c))\n",
    "    \n"
   ]
  },
  {
   "cell_type": "code",
   "execution_count": 18,
   "metadata": {},
   "outputs": [
    {
     "name": "stdout",
     "output_type": "stream",
     "text": [
      "a+b =  [5 7 9]\n"
     ]
    }
   ],
   "source": [
    "a = tf.constant([1,2,3],name='a')\n",
    "b = tf.constant([4,5,6],name='b')\n",
    "\n",
    "c = a+b\n",
    "with tf.Session() as sess:\n",
    "    print('a+b = ',sess.run(c))"
   ]
  },
  {
   "cell_type": "code",
   "execution_count": null,
   "metadata": {},
   "outputs": [],
   "source": []
  }
 ],
 "metadata": {
  "kernelspec": {
   "display_name": "Python 3",
   "language": "python",
   "name": "python3"
  },
  "language_info": {
   "codemirror_mode": {
    "name": "ipython",
    "version": 3
   },
   "file_extension": ".py",
   "mimetype": "text/x-python",
   "name": "python",
   "nbconvert_exporter": "python",
   "pygments_lexer": "ipython3",
   "version": "3.6.10"
  }
 },
 "nbformat": 4,
 "nbformat_minor": 4
}
