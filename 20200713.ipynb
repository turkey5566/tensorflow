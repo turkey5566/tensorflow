{
 "cells": [
  {
   "cell_type": "code",
   "execution_count": 8,
   "metadata": {},
   "outputs": [
    {
     "name": "stdout",
     "output_type": "stream",
     "text": [
      "-[[1,2]]を代入-\n",
      "a =  [[1 2]]\n",
      "-[[1,2],[3,4]]を代入-\n",
      "a =  [[1 2]\n",
      " [3 4]]\n"
     ]
    }
   ],
   "source": [
    "import tensorflow as tf\n",
    "\n",
    "a = tf.placeholder(shape=(None,2),dtype=tf.int32,name='a')\n",
    "\n",
    "with tf.Session() as sess:\n",
    "    print('-[[1,2]]を代入-')\n",
    "    print('a = ',sess.run(a,feed_dict={a:[[1,2]]}))\n",
    "    print('-[[1,2],[3,4]]を代入-')\n",
    "    print('a = ',sess.run(a,feed_dict={a:[[1,2],[3,4]]}))\n",
    "    \n",
    "    "
   ]
  },
  {
   "cell_type": "code",
   "execution_count": 10,
   "metadata": {},
   "outputs": [
    {
     "name": "stdout",
     "output_type": "stream",
     "text": [
      "first = b=  2\n",
      "second = b=  3\n",
      "new Session\n",
      "new ss first = b=  2\n",
      "new ss second = b=  3\n"
     ]
    }
   ],
   "source": [
    "a = tf.Variable(1,name='a')\n",
    "b = tf.assign(a,a+1)\n",
    "\n",
    "with tf.Session() as sess:\n",
    "    sess.run(tf.global_variables_initializer())\n",
    "    print('first = b= ',sess.run(b))\n",
    "    print('second = b= ',sess.run(b))\n",
    "with tf.Session() as sess:\n",
    "    sess.run(tf.global_variables_initializer())\n",
    "    print('new Session')\n",
    "    print('new ss first = b= ',sess.run(b))\n",
    "    print('new ss second = b= ',sess.run(b))"
   ]
  },
  {
   "cell_type": "code",
   "execution_count": 12,
   "metadata": {},
   "outputs": [
    {
     "name": "stdout",
     "output_type": "stream",
     "text": [
      "first = b=  2\n",
      "second = b=  3\n",
      "INFO:tensorflow:Restoring parameters from model/model.ckpt\n",
      "new Session\n",
      "new ss first = b=  4\n",
      "new ss second = b=  5\n"
     ]
    }
   ],
   "source": [
    "\n",
    "a = tf.Variable(1,name='a')\n",
    "b = tf.assign(a,a+1)\n",
    "saver = tf.train.Saver()\n",
    "with tf.Session() as sess:\n",
    "    sess.run(tf.global_variables_initializer())\n",
    "    print('first = b= ',sess.run(b))\n",
    "    print('second = b= ',sess.run(b))\n",
    "    saver.save(sess,'model/model.ckpt')\n",
    "    \n",
    "saver = tf.train.Saver() \n",
    "with tf.Session() as sess:\n",
    "    sess.run(tf.global_variables_initializer())\n",
    "    saver.restore(sess,save_path='model/model.ckpt')\n",
    "    print('new Session')\n",
    "    print('new ss first = b= ',sess.run(b))\n",
    "    print('new ss second = b= ',sess.run(b))"
   ]
  },
  {
   "cell_type": "code",
   "execution_count": 16,
   "metadata": {},
   "outputs": [],
   "source": [
    "LOG_DIR = './logs'\n",
    "\n",
    "a = tf.constant(1,name='a')\n",
    "b = tf.constant(1,name='b')\n",
    "c = a+b\n",
    "\n",
    "graph = tf.get_default_graph()\n",
    "with tf.summary.FileWriter(LOG_DIR) as writer:\n",
    "     writer.add_graph(graph)"
   ]
  }
 ],
 "metadata": {
  "kernelspec": {
   "display_name": "Python 3",
   "language": "python",
   "name": "python3"
  },
  "language_info": {
   "codemirror_mode": {
    "name": "ipython",
    "version": 3
   },
   "file_extension": ".py",
   "mimetype": "text/x-python",
   "name": "python",
   "nbconvert_exporter": "python",
   "pygments_lexer": "ipython3",
   "version": "3.6.10"
  }
 },
 "nbformat": 4,
 "nbformat_minor": 4
}
